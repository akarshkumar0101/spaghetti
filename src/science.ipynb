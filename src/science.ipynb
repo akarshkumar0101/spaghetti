{
 "cells": [
  {
   "cell_type": "code",
   "execution_count": 1,
   "metadata": {},
   "outputs": [],
   "source": [
    "%load_ext autoreload\n",
    "%autoreload 2\n",
    "!hostname\n",
    "!pwd\n",
    "import os, sys\n",
    "print(sys.executable)\n",
    "# os.environ['CUDA_VISIBLE_DEVICES'] = \"7\"\n",
    "os.environ['XLA_PYTHON_CLIENT_PREALLOCATE'] = \"false\"\n",
    "# sys.path.append(os.path.abspath(\"..\"))"
   ]
  },
  {
   "cell_type": "code",
   "execution_count": 2,
   "metadata": {},
   "outputs": [],
   "source": [
    "import os, sys, glob, pickle, copy, time\n",
    "from functools import partial\n",
    "\n",
    "import numpy as np\n",
    "import pandas as pd\n",
    "import xarray as xr\n",
    "import matplotlib.pyplot as plt\n",
    "# plt.rcParams['figure.figsize'] = (15, 5)\n",
    "import seaborn as sns\n",
    "sns.set_theme()\n",
    "\n",
    "from tqdm.auto import tqdm\n",
    "from einops import rearrange, reduce, repeat\n",
    "from einop import einop\n",
    "\n",
    "import jax\n",
    "import jax.numpy as jnp\n",
    "from jax.random import split\n",
    "\n",
    "import flax\n",
    "import flax.linen as nn\n",
    "from flax.training.train_state import TrainState\n",
    "\n",
    "import optax"
   ]
  },
  {
   "cell_type": "code",
   "execution_count": 3,
   "metadata": {},
   "outputs": [],
   "source": [
    "from clip import CLIP\n",
    "from cppn import CPPN, FlattenCPPNParameters\n",
    "import util \n",
    "\n",
    "import experiment_utils"
   ]
  },
  {
   "cell_type": "code",
   "execution_count": 4,
   "metadata": {},
   "outputs": [],
   "source": [
    "cfg_default = dict(\n",
    "    seed=0,\n",
    "    noun_file=\"/home/akarsh_sakana_ai/spaghetti/nounlist.txt\",\n",
    "    save_dir=None,\n",
    "    prompt=\"an image of a {}\",\n",
    "    replace_only_one_niche=False,\n",
    "\n",
    "    n_iters=100000,\n",
    "    pop_size=6801,\n",
    "    n_mutations=16,\n",
    "    mutation=\"gausian\",\n",
    "    sigma=0.5,\n",
    ")\n",
    "\n",
    "cfgs = []\n",
    "\n",
    "# for n_mutations in [16]:\n",
    "    # for mutation in [\"gaussian\", \"sparse\"]:\n",
    "        # for sigma in [0.01, 0.1, 0.5]:\n",
    "for n_mutations in [16]:\n",
    "    for mutation in [\"gaussian\"]:\n",
    "        for sigma in [0.5]:\n",
    "            for seed in [0, 1, 2, 3]:\n",
    "                cfg = copy.deepcopy(cfg_default)\n",
    "                cfg.update(seed=seed, n_mutations=n_mutations, mutation=mutation, sigma=sigma,\n",
    "                        save_dir=f\"/home/akarsh_sakana_ai/spaghetti-data/exp1/{seed}_{n_mutations}_{mutation}_{sigma}\")\n",
    "                cfgs.append(cfg)"
   ]
  },
  {
   "cell_type": "code",
   "execution_count": 5,
   "metadata": {},
   "outputs": [],
   "source": [
    "experiment_utils.create_commands(cfgs, cfg_default, prefix=\"python map_elites.py\", prune=False, out_file=\"./science.sh\")"
   ]
  },
  {
   "cell_type": "code",
   "execution_count": null,
   "metadata": {},
   "outputs": [],
   "source": []
  },
  {
   "cell_type": "code",
   "execution_count": null,
   "metadata": {},
   "outputs": [],
   "source": []
  },
  {
   "cell_type": "code",
   "execution_count": 17,
   "metadata": {},
   "outputs": [],
   "source": [
    "plt.figure(figsize=(20, 10))\n",
    "for cfg in cfgs:\n",
    "    save_dir = cfg['save_dir']\n",
    "    with open('../nounlist.txt', 'r') as f:\n",
    "        nouns = f.read().strip().split('\\n')\n",
    "\n",
    "    archive = util.load_pkl(save_dir, 'archive')\n",
    "    data = util.load_pkl(save_dir, 'data')\n",
    "    # print(jax.tree.map(lambda x: (x.shape, x.size*4/1e6), archive))\n",
    "    # print(jax.tree.map(lambda x: (x.shape, x.size*4/1e6), data))\n",
    "\n",
    "    plt.plot(data['avg_quality'])\n",
    "plt.xlabel('Iteration', fontsize=20)\n",
    "plt.ylabel('Average Quality', fontsize=20)\n",
    "# plt.ylim(0.3, 0.32)"
   ]
  },
  {
   "cell_type": "code",
   "execution_count": null,
   "metadata": {},
   "outputs": [],
   "source": []
  },
  {
   "cell_type": "code",
   "execution_count": null,
   "metadata": {},
   "outputs": [],
   "source": []
  },
  {
   "cell_type": "code",
   "execution_count": null,
   "metadata": {},
   "outputs": [],
   "source": []
  },
  {
   "cell_type": "markdown",
   "metadata": {},
   "source": [
    "# Visualizing Results"
   ]
  },
  {
   "cell_type": "code",
   "execution_count": 4,
   "metadata": {},
   "outputs": [],
   "source": [
    "save_dir = \"/home/akarsh_sakana_ai/spaghetti-data/run_0.5/\"\n",
    "\n",
    "with open('../nounlist.txt', 'r') as f:\n",
    "    nouns = f.read().strip().split('\\n')\n",
    "\n",
    "archive = util.load_pkl(save_dir, 'archive')\n",
    "data = util.load_pkl(save_dir, 'data')"
   ]
  },
  {
   "cell_type": "code",
   "execution_count": 5,
   "metadata": {},
   "outputs": [],
   "source": [
    "\n",
    "print(jax.tree.map(lambda x: (x.shape, x.size*4/1e6), archive))\n",
    "print(jax.tree.map(lambda x: (x.shape, x.size*4/1e6), data))\n"
   ]
  },
  {
   "cell_type": "code",
   "execution_count": 6,
   "metadata": {},
   "outputs": [],
   "source": [
    "plt.figure(figsize=(15, 5))\n",
    "plt.subplot(121); plt.plot(data['n_transfers'].cumsum()); plt.title('n_transfers')\n",
    "plt.subplot(122); plt.plot(data['avg_quality']); plt.title('avg_quality')\n",
    "plt.show()"
   ]
  },
  {
   "cell_type": "code",
   "execution_count": 7,
   "metadata": {},
   "outputs": [],
   "source": [
    "cppn = CPPN(n_layers=4, d_hidden=16, nonlin='tanh')\n",
    "cppn = FlattenCPPNParameters(cppn)\n",
    "\n",
    "\n",
    "txt = \"wrestler\"\n",
    "idx = nouns.index(txt)\n",
    "\n",
    "ai = jax.tree.map(lambda x: x[idx], archive)\n",
    "\n",
    "params = ai['pheno']['params']\n",
    "plt.imshow(cppn.generate_image(params))\n",
    "plt.title(f\"quality: {ai['quality'].item():.4f}\")"
   ]
  },
  {
   "cell_type": "code",
   "execution_count": 9,
   "metadata": {},
   "outputs": [],
   "source": [
    "scan_fn = lambda _, params: (None, cppn.generate_image(params))\n",
    "_, imgs = jax.lax.scan(scan_fn, None, archive['pheno']['params'])\n",
    "imgs = np.array(imgs)\n",
    "imgs.shape"
   ]
  },
  {
   "cell_type": "code",
   "execution_count": 47,
   "metadata": {},
   "outputs": [],
   "source": [
    "# plt.figure(figsize=(50, 34*1.3))\n",
    "# for i in tqdm(range(6800//4//4)):\n",
    "#     noun = nouns[i]\n",
    "#     quality = archive['quality'][i]\n",
    "#     # params = archive['pheno']['params'][i]\n",
    "#     img = imgs[i]\n",
    "#     plt.subplot(68, 100, i+1)\n",
    "#     plt.imshow(img);plt.axis('off')\n",
    "#     plt.title(f\"{noun}\\n{quality.item():.3f}\", fontsize=2)\n",
    "# plt.tight_layout()\n",
    "# plt.savefig(f'{save_dir}/archive.png', dpi=300, bbox_inches='tight')\n",
    "# plt.close()\n",
    "\n",
    "poster = imgs[:6800]\n",
    "poster = np.pad(poster, ((0, 0), (35, 10), (5, 5), (0, 0)), constant_values=1.)\n",
    "poster = rearrange(poster, \"(R C) H W D -> (R H) (C W) D\", R=68, C=100)\n",
    "from PIL import Image\n",
    "import cv2\n",
    "\n",
    "for i in tqdm(range(6800)):\n",
    "    y, x = divmod(i, 100)\n",
    "    x, y = x*(128+10), y*(128+45)\n",
    "    txt = f\"{nouns[i]}\"\n",
    "    cv2.putText(poster, txt, (x+5, y+12), cv2.FONT_HERSHEY_COMPLEX, .7, (0, 0, 0), 1)  #text,coordinate,font,size of text,color,thickness of font\n",
    "    txt = f\"{archive['quality'][i].item():.3f}\"\n",
    "    cv2.putText(poster, txt, (x+5, y+12+18), cv2.FONT_HERSHEY_COMPLEX, .5, (0, 0, 0), 1)  #text,coordinate,font,size of text,color,thickness of font\n",
    "\n",
    "Image.fromarray((poster * 255).astype('uint8')).save(f\"{save_dir}/poster.png\")"
   ]
  },
  {
   "cell_type": "code",
   "execution_count": null,
   "metadata": {},
   "outputs": [],
   "source": []
  },
  {
   "cell_type": "code",
   "execution_count": 214,
   "metadata": {},
   "outputs": [],
   "source": [
    "def viz_feature_maps(features):\n",
    "    max_features_per_layer = max(jax.tree.map(lambda x: x.shape[-1], features))\n",
    "    n_layers = len(features)\n",
    "    n_layers, max_features_per_layer\n",
    "\n",
    "    plt.figure(figsize=(2*max_features_per_layer, 2*n_layers))\n",
    "    for i, layer_features in enumerate(features):\n",
    "        for j, fmap in enumerate(rearrange(layer_features, 'h w c -> c h w')):\n",
    "            plt.subplot(n_layers, max_features_per_layer, i*max_features_per_layer + j + 1)\n",
    "            plt.imshow(fmap); plt.xticks([]); plt.yticks([])\n",
    "            if j==0:\n",
    "                plt.ylabel(f\"{i}\", fontsize=25)\n",
    "    plt.subplot(n_layers, max_features_per_layer, (n_layers-1)*max_features_per_layer + (max_features_per_layer-1) + 1)\n",
    "    plt.imshow(rgb); plt.axis('off')\n",
    "    plt.gcf().supylabel(\"Layer\", fontsize=35)\n",
    "    plt.gcf().supxlabel(\"Feature Map\", fontsize=35)\n",
    "    plt.suptitle(\"Feature Maps of CPPN\", fontsize=35)\n",
    "    plt.tight_layout()\n",
    "    return plt.gcf()\n",
    "\n",
    "def viz_random_mutations(cppn, params, mutation='gaussian', sigma=0.5):\n",
    "    def mutate_fn(rng, params):\n",
    "        if mutation == 'gaussian':\n",
    "            noise = jax.random.normal(rng, params.shape)\n",
    "            return params + noise * sigma\n",
    "        elif mutation == 'sparse':\n",
    "            rng, _rng = split(rng)\n",
    "            mask = jax.random.uniform(rng, params.shape) < sigma\n",
    "            noise = jax.random.normal(_rng, params.shape)\n",
    "            return noise * mask + params * (1-mask)\n",
    "        else:\n",
    "            raise NotImplementedError\n",
    "    rng = jax.random.PRNGKey(0)\n",
    "    plt.figure(figsize=(20, 5))\n",
    "    for i in range(45):\n",
    "        rng = jax.random.PRNGKey(i)\n",
    "        paramsp = mutate_fn(rng, params)\n",
    "        imgp = cppn.generate_image(paramsp)\n",
    "        plt.subplot(3, 15, i+1); plt.imshow(imgp); plt.axis('off')\n",
    "    plt.suptitle(\"Random mutations of CPPN\", fontsize=25)\n",
    "    plt.tight_layout()\n",
    "    return plt.gcf()\n",
    "\n",
    "def viz_sweep_weights(cppn, params):\n",
    "    params = jnp.array(params)\n",
    "    rng = jax.random.PRNGKey(0)\n",
    "\n",
    "    n_sweeps, granularity = 20, 7\n",
    "    weight_idxs = jax.random.permutation(rng, cppn.n_params)[:n_sweeps]\n",
    "    plt.figure(figsize=(1*n_sweeps, 1*granularity))\n",
    "    for i, weight_idx in enumerate(weight_idxs):\n",
    "        img = jnp.concatenate([cppn.generate_image(params.at[weight_idxs[i]].set(val)) for val in jnp.linspace(-3, 3, granularity)], axis=0)\n",
    "        plt.subplot(1, n_sweeps, i+1)\n",
    "        plt.imshow(img); plt.xticks([]); plt.yticks([])\n",
    "        plt.xlabel(f\"{weight_idx}\", fontsize=10)\n",
    "    plt.suptitle(\"Sweeping weights of CPPN\", fontsize=20)\n",
    "    plt.gcf().supxlabel(\"Weight Index\", fontsize=20)\n",
    "    plt.tight_layout()\n",
    "    return plt.gcf()"
   ]
  },
  {
   "cell_type": "code",
   "execution_count": null,
   "metadata": {},
   "outputs": [],
   "source": []
  },
  {
   "cell_type": "code",
   "execution_count": 223,
   "metadata": {},
   "outputs": [],
   "source": [
    "cppn = CPPN(n_layers=4, d_hidden=16, nonlin='tanh')\n",
    "cppn = FlattenCPPNParameters(cppn)\n",
    "txt = \"wrestler\"\n",
    "# txt = \"buzz\"\n",
    "idx = nouns.index(txt)\n",
    "ai = jax.tree.map(lambda x: x[idx], archive)\n",
    "params = ai['pheno']['params']"
   ]
  },
  {
   "cell_type": "code",
   "execution_count": 224,
   "metadata": {},
   "outputs": [],
   "source": [
    "rgb, features = cppn.generate_image(params, intermediate_features=True)\n",
    "plt.imshow(rgb)\n",
    "plt.title(f\"quality: {ai['quality'].item():.4f}\")\n",
    "plt.show()\n",
    "\n",
    "viz_feature_maps(features)\n",
    "plt.show()\n",
    "viz_random_mutations(cppn, params, mutation='gaussian', sigma=0.5)\n",
    "plt.show()\n",
    "viz_sweep_weights(cppn, params)\n",
    "plt.show()"
   ]
  },
  {
   "cell_type": "code",
   "execution_count": 225,
   "metadata": {},
   "outputs": [],
   "source": [
    "def loss_fn(paramsp):\n",
    "    imgp = cppn.generate_image(paramsp)\n",
    "    return ((rgb-imgp)**2).mean()\n",
    "grad_fn = jax.jit(jax.value_and_grad(loss_fn))\n",
    "\n",
    "@jax.jit\n",
    "def train_step(state):\n",
    "    loss, grad = grad_fn(state.params)\n",
    "    state = state.apply_gradients(grads=grad)\n",
    "    return state, loss\n",
    "\n",
    "rng = jax.random.PRNGKey(0)\n",
    "params_sgd = jax.random.normal(rng, params.shape)\n",
    "\n",
    "tx = optax.adam(learning_rate=3e-4)\n",
    "state = TrainState.create(apply_fn=None, params=params_sgd, tx=tx)\n",
    "\n",
    "pbar = tqdm(range(100000))\n",
    "for t in pbar:\n",
    "    state, loss = train_step(state)\n",
    "    if t%100 == 0:\n",
    "        pbar.set_postfix(loss=loss.item())\n",
    "\n",
    "params_sgd = state.params"
   ]
  },
  {
   "cell_type": "code",
   "execution_count": 226,
   "metadata": {},
   "outputs": [],
   "source": [
    "rgb_sgd, features_sgd = cppn.generate_image(params_sgd, intermediate_features=True)\n",
    "plt.imshow(rgb_sgd)"
   ]
  },
  {
   "cell_type": "code",
   "execution_count": 227,
   "metadata": {},
   "outputs": [],
   "source": [
    "viz_feature_maps(features_sgd)\n",
    "plt.show()\n",
    "viz_random_mutations(cppn, params_sgd, mutation='gaussian', sigma=0.5)\n",
    "plt.show()\n",
    "viz_sweep_weights(cppn, params_sgd)\n",
    "plt.show()"
   ]
  },
  {
   "cell_type": "code",
   "execution_count": null,
   "metadata": {},
   "outputs": [],
   "source": []
  },
  {
   "cell_type": "code",
   "execution_count": 228,
   "metadata": {},
   "outputs": [],
   "source": [
    "def viz_weight_influences(cppn, params):\n",
    "    params = jnp.array(params)\n",
    "\n",
    "    weight_sweep = jnp.linspace(-3, 3, 11)\n",
    "\n",
    "    def get_img(weight_idx, weight_val):\n",
    "        return cppn.generate_image(params.at[weight_idx].set(weight_val))\n",
    "    get_img = jax.jit(jax.vmap(get_img, in_axes=(None, 0)))\n",
    "\n",
    "    def get_influence_img(weight_idx):\n",
    "        imgs = get_img(weight_idx, weight_sweep) # (n_sweeps, H, W, 3)\n",
    "        return jnp.var(imgs, axis=0).mean(axis=-1)\n",
    "\n",
    "    imgs = [get_influence_img(weight_idx) for weight_idx in tqdm(range(len(params)))]\n",
    "    imgs = jnp.stack(imgs, axis=0) # (n_params, H, W, 3)\n",
    "\n",
    "    poster = rearrange(imgs[:930], \"(R C) H W ... -> (R H) (C W) ...\", R=62, C=15)\n",
    "    plt.figure(figsize=(20, 80))\n",
    "    plt.imshow(poster); plt.xticks([]); plt.yticks([])\n"
   ]
  },
  {
   "cell_type": "code",
   "execution_count": 229,
   "metadata": {},
   "outputs": [],
   "source": [
    "viz_weight_influences(cppn, params)\n",
    "plt.show()"
   ]
  },
  {
   "cell_type": "code",
   "execution_count": 230,
   "metadata": {},
   "outputs": [],
   "source": [
    "viz_weight_influences(cppn, params_sgd)\n",
    "plt.show()"
   ]
  },
  {
   "cell_type": "code",
   "execution_count": null,
   "metadata": {},
   "outputs": [],
   "source": []
  },
  {
   "cell_type": "code",
   "execution_count": null,
   "metadata": {},
   "outputs": [],
   "source": []
  },
  {
   "cell_type": "code",
   "execution_count": 231,
   "metadata": {},
   "outputs": [],
   "source": [
    "from sklearn.cluster import SpectralClustering\n",
    "mat = cppn.param_reshaper.reshape_single(params)['params']['Dense_1']['kernel'].copy()\n",
    "mat = jnp.array(mat)\n",
    "mat = (mat>1.).astype('float32')"
   ]
  },
  {
   "cell_type": "code",
   "execution_count": 232,
   "metadata": {},
   "outputs": [],
   "source": [
    "plt.imshow(mat)"
   ]
  },
  {
   "cell_type": "code",
   "execution_count": 233,
   "metadata": {},
   "outputs": [],
   "source": [
    "affinity1 = mat @ mat.T\n",
    "affinity2 = mat.T @ mat\n",
    "plt.figure(figsize=(10, 5))\n",
    "plt.subplot(121); plt.imshow(affinity1); plt.colorbar()\n",
    "plt.subplot(122); plt.imshow(affinity2); plt.colorbar()"
   ]
  },
  {
   "cell_type": "code",
   "execution_count": 235,
   "metadata": {},
   "outputs": [],
   "source": [
    "for n_clusters in [2, 4, 6, 8]:\n",
    "    clustering1 = SpectralClustering(n_clusters=n_clusters, affinity='precomputed', random_state=0).fit(affinity1)\n",
    "    clustering2 = SpectralClustering(n_clusters=n_clusters, affinity='precomputed', random_state=0).fit(affinity2)\n",
    "    plt.imshow(mat[np.argsort(clustering1.labels_[::-1])][:, np.argsort(clustering2.labels_[::-1])])\n",
    "    plt.show()"
   ]
  },
  {
   "cell_type": "code",
   "execution_count": 213,
   "metadata": {},
   "outputs": [],
   "source": [
    "plt.hist(params, bins=50);\n",
    "plt.hist(params_sgd, bins=50, color='red', alpha=0.5);"
   ]
  },
  {
   "cell_type": "code",
   "execution_count": null,
   "metadata": {},
   "outputs": [],
   "source": []
  },
  {
   "cell_type": "code",
   "execution_count": null,
   "metadata": {},
   "outputs": [],
   "source": []
  },
  {
   "cell_type": "code",
   "execution_count": null,
   "metadata": {},
   "outputs": [],
   "source": []
  },
  {
   "cell_type": "code",
   "execution_count": null,
   "metadata": {},
   "outputs": [],
   "source": []
  },
  {
   "cell_type": "code",
   "execution_count": 255,
   "metadata": {},
   "outputs": [],
   "source": [
    "cppn = CPPN(n_layers=8, d_hidden=8, nonlin='tanh')\n",
    "cppn = FlattenCPPNParameters(cppn)\n",
    "plt.figure(figsize=(20, 5))\n",
    "for i in range(4*20):\n",
    "    p = jax.random.normal(jax.random.PRNGKey(i), (cppn.n_params,))\n",
    "    img = cppn.generate_image(p)\n",
    "    plt.subplot(4, 20, i+1)\n",
    "    plt.imshow(img); plt.xticks([]); plt.yticks([])\n",
    "plt.show()"
   ]
  },
  {
   "cell_type": "code",
   "execution_count": null,
   "metadata": {},
   "outputs": [],
   "source": []
  }
 ],
 "metadata": {
  "kernelspec": {
   "display_name": "spaghetti",
   "language": "python",
   "name": "python3"
  },
  "language_info": {
   "codemirror_mode": {
    "name": "ipython",
    "version": 3
   },
   "file_extension": ".py",
   "mimetype": "text/x-python",
   "name": "python",
   "nbconvert_exporter": "python",
   "pygments_lexer": "ipython3",
   "version": "3.10.16"
  }
 },
 "nbformat": 4,
 "nbformat_minor": 2
}
