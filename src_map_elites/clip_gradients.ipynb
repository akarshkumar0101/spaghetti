{
 "cells": [
  {
   "cell_type": "code",
   "execution_count": 1,
   "metadata": {},
   "outputs": [
    {
     "name": "stdout",
     "output_type": "stream",
     "text": [
      "slurm0-gpu1nodeset-0\n",
      "/home/akarsh_sakana_ai/spaghetti/src\n",
      "/home/akarsh_sakana_ai/.conda/envs/spaghetti/bin/python\n"
     ]
    }
   ],
   "source": [
    "%load_ext autoreload\n",
    "%autoreload 2\n",
    "!hostname\n",
    "!pwd\n",
    "import os, sys\n",
    "print(sys.executable)\n",
    "# os.environ['CUDA_VISIBLE_DEVICES'] = \"7\"\n",
    "os.environ['XLA_PYTHON_CLIENT_PREALLOCATE'] = \"false\"\n",
    "# sys.path.append(os.path.abspath(\"..\"))"
   ]
  },
  {
   "cell_type": "code",
   "execution_count": 2,
   "metadata": {},
   "outputs": [],
   "source": [
    "import os, sys, glob, pickle, copy, time\n",
    "from functools import partial\n",
    "\n",
    "import numpy as np\n",
    "import pandas as pd\n",
    "import xarray as xr\n",
    "import matplotlib.pyplot as plt\n",
    "# plt.rcParams['figure.figsize'] = (15, 5)\n",
    "import seaborn as sns\n",
    "sns.set_theme()\n",
    "\n",
    "from tqdm.auto import tqdm\n",
    "from einops import rearrange, reduce, repeat\n",
    "from einop import einop\n",
    "\n",
    "import jax\n",
    "import jax.numpy as jnp\n",
    "from jax.random import split\n",
    "\n",
    "import flax\n",
    "import flax.linen as nn\n",
    "from flax.training.train_state import TrainState\n",
    "\n",
    "import optax"
   ]
  },
  {
   "cell_type": "code",
   "execution_count": 28,
   "metadata": {},
   "outputs": [],
   "source": [
    "from clip import CLIPOriginal, CLIP"
   ]
  },
  {
   "cell_type": "code",
   "execution_count": 29,
   "metadata": {},
   "outputs": [],
   "source": [
    "clip1, clip2 = CLIPOriginal(), CLIP()"
   ]
  },
  {
   "cell_type": "code",
   "execution_count": 30,
   "metadata": {},
   "outputs": [],
   "source": [
    "img_cat = plt.imread(\"../cat.jpg\")/255.\n",
    "img_dog = plt.imread(\"../dog.jpg\")/255.\n",
    "img_cat = jax.image.resize(img_cat, (224, 224, 3), method='bilinear')\n",
    "img_dog = jax.image.resize(img_dog, (224, 224, 3), method='bilinear')\n",
    "imgs = jnp.stack([img_cat, img_dog])"
   ]
  },
  {
   "cell_type": "code",
   "execution_count": null,
   "metadata": {},
   "outputs": [
    {
     "name": "stdout",
     "output_type": "stream",
     "text": [
      "[[0.9828562  0.01041402 0.00672975]\n",
      " [0.00148572 0.9880585  0.01045577]]\n",
      "[[0.98288965 0.01039237 0.00671803]\n",
      " [0.00148728 0.98806936 0.01044337]]\n"
     ]
    }
   ],
   "source": [
    "for clip in [clip1, clip2]:\n",
    "    z_txt = clip.embed_txt(['a photo of a cat', 'a photo of a dog', 'a photo of a human'])\n",
    "    z_img = jax.vmap(clip.embed_img)(imgs)\n",
    "    scores = z_img @ z_txt.T\n",
    "    # print(scores)\n",
    "\n",
    "    probs = jax.nn.softmax(scores*100, axis=-1)\n",
    "    print(probs)"
   ]
  },
  {
   "cell_type": "code",
   "execution_count": null,
   "metadata": {},
   "outputs": [],
   "source": []
  },
  {
   "cell_type": "code",
   "execution_count": null,
   "metadata": {},
   "outputs": [],
   "source": []
  },
  {
   "cell_type": "code",
   "execution_count": null,
   "metadata": {},
   "outputs": [],
   "source": []
  }
 ],
 "metadata": {
  "kernelspec": {
   "display_name": "spaghetti",
   "language": "python",
   "name": "python3"
  },
  "language_info": {
   "codemirror_mode": {
    "name": "ipython",
    "version": 3
   },
   "file_extension": ".py",
   "mimetype": "text/x-python",
   "name": "python",
   "nbconvert_exporter": "python",
   "pygments_lexer": "ipython3",
   "version": "3.10.13"
  }
 },
 "nbformat": 4,
 "nbformat_minor": 2
}
